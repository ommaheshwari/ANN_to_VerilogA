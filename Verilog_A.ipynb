{
 "cells": [
  {
   "cell_type": "code",
   "execution_count": null,
   "id": "90863a19-3086-4c8e-aabf-516aeede0cbd",
   "metadata": {},
   "outputs": [],
   "source": []
  },
  {
   "cell_type": "code",
   "execution_count": 32,
   "id": "16f9b111-6bc1-4c30-a326-b41014752674",
   "metadata": {},
   "outputs": [],
   "source": [
    "import matplotlib.pyplot as plt\n",
    "import numpy as np\n",
    "import pandas as pd\n",
    "from sklearn.model_selection import train_test_split\n",
    "from sklearn.model_selection import cross_val_score\n",
    "from sklearn.model_selection import KFold\n",
    "from sklearn.pipeline import Pipeline\n",
    "from sklearn.preprocessing import MinMaxScaler\n",
    "from tensorflow.keras.models import Sequential\n",
    "from tensorflow.keras.layers import Dense\n",
    "from tensorflow.keras.wrappers.scikit_learn import KerasRegressor\n",
    "from tensorflow.keras.metrics import MeanSquaredError"
   ]
  },
  {
   "cell_type": "code",
   "execution_count": 1,
   "id": "70ddc3c8-ace9-4232-b132-b01305ea15a7",
   "metadata": {},
   "outputs": [],
   "source": [
    "df = pd.read_csv('my_data.csv',dtype='float')\n",
    "df"
   ]
  },
  {
   "cell_type": "code",
   "execution_count": 2,
   "id": "179ea351-23af-4546-88ee-6536baf82551",
   "metadata": {},
   "outputs": [],
   "source": [
    "# df = pd.read_csv('new_IV1_W_L_1Id_expanded.csv',dtype='float')\n",
    "df = df.sample(frac=1).reset_index(drop=True)\n",
    "\n",
    "df['id'] = df['id'].apply(lambda x: np.log(1/x))\n",
    "\n",
    "\n",
    "\n",
    "df.head()\n",
    "\n"
   ]
  },
  {
   "cell_type": "code",
   "execution_count": null,
   "id": "e89fb851-b843-4372-9287-c425c6f4d8b7",
   "metadata": {},
   "outputs": [],
   "source": []
  },
  {
   "cell_type": "code",
   "execution_count": null,
   "id": "fe96003b-0a75-40cf-8ede-e3771ebbaa66",
   "metadata": {},
   "outputs": [],
   "source": []
  },
  {
   "cell_type": "code",
   "execution_count": null,
   "id": "522b51f7-5aad-4bdc-bb1f-432ca0a1eb43",
   "metadata": {},
   "outputs": [],
   "source": []
  },
  {
   "cell_type": "code",
   "execution_count": null,
   "id": "6edb5c67-13fe-4612-9f85-e97774abfa3d",
   "metadata": {},
   "outputs": [],
   "source": []
  },
  {
   "cell_type": "code",
   "execution_count": null,
   "id": "db3be41e-120b-45b2-afee-734982f4bd54",
   "metadata": {},
   "outputs": [],
   "source": []
  },
  {
   "cell_type": "code",
   "execution_count": 36,
   "id": "ce4a4996-107d-4ca5-a5ad-c062f8aacf30",
   "metadata": {},
   "outputs": [],
   "source": [
    "maxvals=np.array(df.max())\n",
    "minvals=np.array(df.min())"
   ]
  },
  {
   "cell_type": "code",
   "execution_count": 37,
   "id": "5aa99a89-7a4a-420a-9ba1-501ec1a85a9b",
   "metadata": {},
   "outputs": [],
   "source": [
    "df_array=df.iloc[:,0:].values\n",
    "u=4\n",
    "\n",
    "df_array_std=(df_array-minvals)/(maxvals-minvals)\n",
    "df_array_scaled = df_array_std * (1 - 0) + 0\n",
    "xscale=df_array_scaled[:,0:u]\n",
    "\n",
    "yscale=df_array_scaled[:,u:]\n",
    "\n",
    "# yscale1=df_array_scaled[:,3:13]\n",
    "# yscale2=df_array_scaled[:,13:22]\n",
    "\n",
    "# yscale3=df_array_scaled[:,22:28]\n",
    "# yscale3=df_array_scaled[:,28:]\n",
    "# yscale1.shape"
   ]
  },
  {
   "cell_type": "code",
   "execution_count": 39,
   "id": "bbadc32c-6ad2-4e8a-ac71-de222732f978",
   "metadata": {},
   "outputs": [],
   "source": [
    "X_train, X_test, Y_train, Y_test = train_test_split(xscale, yscale,test_size=0.5, train_size=0.5, random_state=42)"
   ]
  },
  {
   "cell_type": "code",
   "execution_count": 41,
   "id": "36b84fc7-8f4c-4002-a17f-5fd3770a6a06",
   "metadata": {},
   "outputs": [
    {
     "name": "stdout",
     "output_type": "stream",
     "text": [
      "Model: \"sequential_3\"\n",
      "_________________________________________________________________\n",
      " Layer (type)                Output Shape              Param #   \n",
      "=================================================================\n",
      " dense_11 (Dense)            (None, 300)               1500      \n",
      "                                                                 \n",
      " dense_12 (Dense)            (None, 3)                 903       \n",
      "                                                                 \n",
      "=================================================================\n",
      "Total params: 2,403\n",
      "Trainable params: 2,403\n",
      "Non-trainable params: 0\n",
      "_________________________________________________________________\n"
     ]
    }
   ],
   "source": [
    "aa='relu'\n",
    "model2 = Sequential()\n",
    "model2.add(Dense(300, input_dim=u, kernel_initializer='normal', activation=aa))\n",
    "# model2.add(Dense(16, activation=aa))\n",
    "# model2.add(Dense(64, activation=aa))\n",
    "\n",
    "# model2.add(Dense(64, activation=aa))\n",
    "# model2.add(Dense(128, activation=aa))\n",
    "# model2.add(Dense(64, activation=aa))\n",
    "\n",
    "\n",
    "\n",
    "model2.add(Dense(3, activation='linear'))\n",
    "model2.summary()"
   ]
  },
  {
   "cell_type": "code",
   "execution_count": null,
   "id": "7a1401b5-ee0e-4c66-a4c1-49eaff2db8d1",
   "metadata": {},
   "outputs": [],
   "source": []
  },
  {
   "cell_type": "code",
   "execution_count": 43,
   "id": "dda40a9a-239e-4a9b-a4dd-de82d4b8e5dc",
   "metadata": {},
   "outputs": [],
   "source": [
    "# model1.compile(loss='mae', optimizer='Adam', metrics=[MeanSquaredError()])\n",
    "# model1.optimizer.lr = 0.001\n",
    "model2.compile(loss=mse, optimizer='Adamax', metrics=[MeanSquaredError()])\n",
    "model2.optimizer.lr = 0.0006\n",
    "# model3.compile(loss='mae', optimizer='Adam', metrics='accuracy')\n",
    "# model3.optimizer.lr = 0.0006\n",
    "# model4.compile(loss='mae', optimizer='Adam', metrics='accuracy')\n",
    "# model4.optimizer.lr = 0.001"
   ]
  },
  {
   "cell_type": "markdown",
   "id": "91be90e8-4505-497b-b651-486be2ae4fa2",
   "metadata": {},
   "source": [
    "history1 = model1.fit(X_train, Y_train, epochs=1000, batch_size=32, verbose=0)"
   ]
  },
  {
   "cell_type": "code",
   "execution_count": 44,
   "id": "094a12bd-4cfb-40b8-8e5e-e55e7da3aca1",
   "metadata": {},
   "outputs": [],
   "source": [
    "history2 = model2.fit(X_train, Y_train, epochs=500, batch_size=64, verbose=0)"
   ]
  },
  {
   "cell_type": "code",
   "execution_count": null,
   "id": "c85d7c4b-c197-4105-8c7f-d228c2e56c0b",
   "metadata": {},
   "outputs": [],
   "source": [
    "\n"
   ]
  },
  {
   "cell_type": "code",
   "execution_count": 49,
   "id": "18308eb0-8510-43c8-a2ab-0b067d8b8b2a",
   "metadata": {},
   "outputs": [
    {
     "name": "stdout",
     "output_type": "stream",
     "text": [
      "Model: \"sequential_3\"\n",
      "_________________________________________________________________\n",
      " Layer (type)                Output Shape              Param #   \n",
      "=================================================================\n",
      " dense_11 (Dense)            (None, 300)               1500      \n",
      "                                                                 \n",
      " dense_12 (Dense)            (None, 3)                 903       \n",
      "                                                                 \n",
      "=================================================================\n",
      "Total params: 2,403\n",
      "Trainable params: 2,403\n",
      "Non-trainable params: 0\n",
      "_________________________________________________________________\n",
      "X_now [0.89654595 0.89654794 0.89667548]\n"
     ]
    }
   ],
   "source": [
    "def model_details(model):\n",
    "    # Print model summary\n",
    "    model.summary()\n",
    "\n",
    "    # Print input shape\n",
    "    # print(f'Input shape: {model.layers[0].input_shape[1]}')\n",
    "\n",
    "\n",
    "    # Print output shape\n",
    "    # print(f'Output shape: {model.layers[-1].output_shape[1]}')\n",
    "\n",
    "    # Print number of layers\n",
    "    # print(f'Number of layers: {len(model.layers)}')\n",
    "\n",
    "\n",
    "\n",
    "    # Print activation function used\n",
    "    # for layer in model.layers:\n",
    "        # print(f'Activation function of layer {layer.name}: {layer.activation.__name__}')\n",
    "\n",
    "    N_inputs=model.layers[0].input_shape[1]\n",
    "    N_outputs=model.layers[-1].output_shape[1]\n",
    "    N_layers=len(model.layers)\n",
    "    N_neurons=np.zeros(N_layers,dtype=int)\n",
    "    # Number of nodes in each layer:\n",
    "    for i in range(N_layers):\n",
    "      N_neurons[i]=int(model.layers[i].output_shape[1])\n",
    "    # print('N_neurons', N_neurons)\n",
    "    Activation=[]\n",
    "    for layer in model.layers:\n",
    "      Activation.append(layer.activation.__name__)\n",
    "\n",
    "    # print('Activation',Activation)\n",
    "    # Print weights of each layer\n",
    "\n",
    "\n",
    "    weights = {}\n",
    "    biases = {}\n",
    "\n",
    "    for i, layer in enumerate(model.layers):\n",
    "      for j in range(int(N_neurons[i])):\n",
    "          weights[\"Weights_layer{}_neuron{}\".format(i,j)]=layer.get_weights()[0][:,j]\n",
    "      biases[\"Biases_layer{}\".format(i)]=layer.get_weights()[1]\n",
    "    # print(weights)\n",
    "    # print(biases)\n",
    "    return(N_inputs,N_layers,N_neurons,weights,biases,Activation)\n",
    "\n",
    "\n",
    "\n",
    "def verilog_code(N_inputs,N_layers,N_neurons,weights,biases,Activation,X_test):\n",
    "    N_inputs=N_inputs\n",
    "    N_layers=N_layers\n",
    "    N_neurons=N_neurons\n",
    "    weights=weights\n",
    "    biases=biases\n",
    "    activation=Activation\n",
    "    X=X_test\n",
    "    Z_layer=0\n",
    "    for i in range(N_layers):\n",
    "        # print('layer',i)\n",
    "        Zneuron=0\n",
    "        Xnext=np.zeros(int(N_neurons[i]))\n",
    "        if i ==0:\n",
    "\n",
    "            inputs_len=N_inputs\n",
    "\n",
    "        else:\n",
    "            inputs_len=int(N_neurons[i-1])\n",
    "            X=Xnow\n",
    "        for j in range(int(N_neurons[i])):\n",
    "            Zip=0\n",
    "            # print('neuron',j)\n",
    "            # print('len_inputs',inputs_len)\n",
    "            # print('X',X)\n",
    "            for k in range(inputs_len):\n",
    "                # print('input',k)\n",
    "                # print('weight*',weights[\"Weights_layer{}_neuron{}\".format(i,j)][k],'input',X[k])\n",
    "\n",
    "                Zip  += weights[\"Weights_layer{}_neuron{}\".format(i,j)][k]*X[k]\n",
    "                # print('Zip',Zip)\n",
    "\n",
    "            Zneuron = Zip + biases[\"Biases_layer{}\".format(i)][j]\n",
    "            # print('Zneuron',Zneuron)\n",
    "\n",
    "            if activation[i]== 'relu':\n",
    "            \n",
    "                Xnext[j]=max(0,Zneuron)\n",
    "            elif activation[i]== \"sigmoid\":\n",
    "                Xnext[j]=1/(1+np.exp(-Zneuron))\n",
    "            elif activation[i]== 'linear':\n",
    "                Xnext[j]=Zneuron\n",
    "            # print('Xnext',Xnext)\n",
    "        Xnow=Xnext\n",
    "\n",
    "    return(Xnow)\n",
    "\n",
    "\n",
    "    \n",
    "\n",
    "\n",
    "\n",
    "\n",
    "# Creating a model\n",
    "model = model2\n",
    "\n",
    "# Display model details\n",
    "N_inputs,N_layers,N_neurons,weights,biases,Activation=model_details(model)\n",
    "\n",
    "X_now=verilog_code(N_inputs,N_layers,N_neurons,weights,biases,Activation,X_test)\n",
    "print('X_now',X_now)"
   ]
  },
  {
   "cell_type": "code",
   "execution_count": 50,
   "id": "6d3dc3ef-2c80-4ca9-ad4d-223c52c7880c",
   "metadata": {},
   "outputs": [
    {
     "data": {
      "text/plain": [
       "array([[0.896546  , 0.8965479 , 0.89667547],\n",
       "       [0.8945883 , 0.8945923 , 0.89474154]], dtype=float32)"
      ]
     },
     "execution_count": 50,
     "metadata": {},
     "output_type": "execute_result"
    }
   ],
   "source": [
    "model2.predict(xscale_test[0:2], verbose=0)"
   ]
  },
  {
   "cell_type": "code",
   "execution_count": null,
   "id": "990a2270-72e1-4659-9e9e-4f72215c6609",
   "metadata": {},
   "outputs": [
    {
     "data": {
      "text/plain": [
       "array([3.33333333e+01, 2.50000000e+00, 1.00000000e-02, 0.00000000e+00,\n",
       "       8.59145537e+00])"
      ]
     },
     "execution_count": 51,
     "metadata": {},
     "output_type": "execute_result"
    }
   ],
   "source": [
    "minvals"
   ]
  },
  {
   "cell_type": "code",
   "execution_count": null,
   "id": "61b9f6e8-3280-4669-a423-074f9bc6c023",
   "metadata": {},
   "outputs": [
    {
     "data": {
      "text/plain": [
       "array([83.33333333, 14.16666667,  0.7       ,  0.71      , 26.69080158])"
      ]
     },
     "execution_count": 52,
     "metadata": {},
     "output_type": "execute_result"
    }
   ],
   "source": [
    "maxvals"
   ]
  },
  {
   "cell_type": "code",
   "execution_count": null,
   "id": "299f8d03-d119-4fc5-96be-32cbdf9cd0ba",
   "metadata": {},
   "outputs": [
    {
     "name": "stdout",
     "output_type": "stream",
     "text": [
      "Verilog-A file generated successfully.\n"
     ]
    }
   ],
   "source": [
    "# Define the Verilog-A code as a string\n",
    "header = \"\"\"\n",
    "// Verilog-A code example\n",
    "\n",
    "\n",
    "`include \"constants.vams\"\n",
    "`include \"disciplines.vams\"\n",
    "\n",
    "\n",
    "module NN_to_Va(g,s,d);\n",
    "    inout g,s,d;\n",
    "    electrical g,s,d;\n",
    "  \n",
    "    parameter real L = 0.012   from [0.01:0.1];\t //um\n",
    "    parameter real W = 0.02   from [0.01:0.4];\t //um\n",
    "    real Vgs, Vds, Weff, Li;\n",
    "    real Xin[0:3];\n",
    "    real Zip, Zneuron, input_length; \n",
    "\n",
    "    integer i, j, k;\n",
    "\n",
    "\"\"\"\n",
    "model_parameters = \"\"\"\n",
    "    real N_inputs={};\n",
    "    real N_layers={};\n",
    "  \n",
    "\"\"\"\n",
    "\n",
    "scaling_parameters = \"\"\"\n",
    "    real min1 = {};\n",
    "    real min2 = {};\n",
    "    real min3 = {};\n",
    "    real min4 = {};\n",
    "    real max1 = {};\n",
    "    real max2 = {};\n",
    "    real max3 = {};\n",
    "    real max4 = {};\n",
    "    real minid = {};\n",
    "    real maxid = {};\n",
    "  \n",
    "\"\"\"\n",
    "# Write the Verilog-A code to a file\n",
    "with open('verilog_a_file_id.va', 'w') as file:\n",
    "    file.write(header)\n",
    "    file.write(model_parameters.format(N_inputs,N_layers))\n",
    "    file.write(scaling_parameters.format(minvals[0], minvals[1], minvals[2], minvals[3], maxvals[0], maxvals[1], maxvals[2], maxvals[3], minvals[4], maxvals[4]))\n",
    "\n",
    "    file.write(\"    real N_neurons[0:{}]=\".format(N_layers-1))\n",
    "    file.write('{')\n",
    "    file.write('{}'.format(N_neurons[0]))\n",
    "    for i in N_neurons[1:]:\n",
    "      file.write(',{}'.format(i))\n",
    "    file.write('};\\n')\n",
    "\n",
    "\n",
    "    for i in range(N_layers):\n",
    "      file.write(\"    real Y_layer_{}[0:{}];\\n\".format(i,int(N_neurons[i]-1)))\n",
    "      for j in range(int(N_neurons[i])):\n",
    "        file.write(\"    real weights_layer_{}_neuron_{}[0:{}]=\".format(i,j,weights[\"Weights_layer{}_neuron{}\".format(i,j)].shape[0]-1))\n",
    "        file.write('{')\n",
    "        file.write('{}'.format(weights[\"Weights_layer{}_neuron{}\".format(i,j)][0]))\n",
    "        for z in weights[\"Weights_layer{}_neuron{}\".format(i,j)][1:]:\n",
    "            file.write(',{}'.format(z))\n",
    "        file.write('};\\n')\n",
    "        file.write(\"    real bias_layer_{}_neuron_{}={};\\n\".format(i,j,biases[\"Biases_layer{}\".format(i)][j]))\n",
    "    file.write(\"    analog begin\\n\")\n",
    "    file.write(\"        Vgs=V(g)-V(s);\\n\")\n",
    "    file.write(\"        Vds=V(d)-V(s);\\n\")\n",
    "    file.write(\"        Li=1/L;\\n\")\n",
    "    file.write(\"        Weff=2*W+0.01;\\n\")\n",
    "    for i in range(N_layers):\n",
    "      for j in range(int(N_neurons[i])):\n",
    "        if i == 0:\n",
    "            file.write(\"        input_length = {};\\n        Zip=0;\\n\".format(N_inputs))\n",
    "            file.write(\"        Xin[0]=(Li-min1)/(max1-min1);\\n\")\n",
    "            file.write(\"        Xin[1]=((Weff/L)-min2)/(max2-min2);\\n\")\n",
    "            file.write(\"        Xin[2]=(Vds-min3)/(max3-min3);\\n\")\n",
    "            file.write(\"        Xin[3]=(Vgs-min4)/(max4-min4);\\n\")\n",
    "            file.write(\"        for (k = 0; k < input_length; k = k + 1) begin\\n\")\n",
    "            file.write(\"            Zip = Zip + weights_layer_{}_neuron_{}[k]*Xin[k];\\n\".format(i,j))\n",
    "        if i>0:\n",
    "            # file.write(\"        X=Y_layer_{};\\n\".format(i-1))\n",
    "            file.write(\"        input_length = {};\\n        Zip=0;\\n\".format(int(N_neurons[i-1])))\n",
    "\n",
    "            file.write(\"        for (k = 0; k < input_length; k = k + 1) begin\\n\")\n",
    "\n",
    "            file.write(\"            Zip = Zip + weights_layer_{}_neuron_{}[k]*Y_layer_{}[k];\\n\".format(i,j,i-1))\n",
    "        file.write(\"        end\\n\")\n",
    "        file.write(\"        Zneuron = Zip + bias_layer_{}_neuron_{};\\n\".format(i,j))\n",
    "\n",
    "        if Activation[i]== \"relu\":\n",
    " \n",
    "            file.write(\"        Y_layer_{}[{}]=max(0,Zneuron);\\n\".format(i,j))\n",
    "        if Activation[i]== \"sigmoid\":\n",
    "            file.write(\"        Y_layer_{}[{}]=1/(1+exp(-1*Zneuron));\\n\".format(i,j))\n",
    "                \n",
    "        if Activation[i]== \"linear\":\n",
    "            file.write(\"        Y_layer_{}[{}]=Zneuron;\\n\".format(i,j))\n",
    "\n",
    "    file.write(\"    I(d,s)<+(1/(exp((Y_layer_{}[0])*(maxid-minid)+minid)));\\n\".format(i))\n",
    "    file.write(\"  end\\n\")\n",
    "    file.write(\"endmodule\\n\")\n",
    "\n",
    "print(\"Verilog-A file generated successfully.\")\n",
    "\n",
    "\n",
    "\n"
   ]
  },
  {
   "cell_type": "code",
   "execution_count": null,
   "id": "4f22d43e-1851-4ed2-a5bd-15a4fe815bfe",
   "metadata": {},
   "outputs": [],
   "source": []
  },
  {
   "cell_type": "code",
   "execution_count": null,
   "id": "fee64cbe-5ef2-432c-a7b6-70496cfd50e6",
   "metadata": {},
   "outputs": [],
   "source": []
  },
  {
   "cell_type": "code",
   "execution_count": null,
   "id": "ef093977-fcd5-446d-9b03-598a527fe39a",
   "metadata": {},
   "outputs": [],
   "source": []
  }
 ],
 "metadata": {
  "kernelspec": {
   "display_name": "Python 3 (ipykernel)",
   "language": "python",
   "name": "python3"
  },
  "language_info": {
   "codemirror_mode": {
    "name": "ipython",
    "version": 3
   },
   "file_extension": ".py",
   "mimetype": "text/x-python",
   "name": "python",
   "nbconvert_exporter": "python",
   "pygments_lexer": "ipython3",
   "version": "3.9.7"
  }
 },
 "nbformat": 4,
 "nbformat_minor": 5
}
